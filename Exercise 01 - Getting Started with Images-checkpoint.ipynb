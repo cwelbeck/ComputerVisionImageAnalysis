{
  "cells": [
    {
      "metadata": {
        "collapsed": true
      },
      "cell_type": "markdown",
      "source": "# Getting Started with Images\n\nIn this notebook, we'll look at some fundamental techniques for working with images and image files. Along the way, you'll become familar with the images that you'll be using throughout this course, which are adapted from the PASCAL Visual Object Classes Challenge (VOC2007) dataset at http://host.robots.ox.ac.uk/pascal/VOC/voc2007/.\n\nLet's start by visualizing some of these images. They're stored in a folder hierarchy that contains a subfolder for each type of object shown in the image; so we'll display the first image in each folder.\n\n(To run the cell, place the cursor in it and click the  **&#9658;I Run** button. The **&#9711;** symbol next to the **Python 3.6** kernel name at the top right will briefly turn to **&#9899;** while the cell runs before turning back to **&#9711;**.)"
    },
    {
      "metadata": {
        "trusted": true
      },
      "cell_type": "code",
      "source": "import os\nimport numpy as np\nimport matplotlib.pyplot as plt\nfrom matplotlib import image as mp_image\n\n# Required magic to display matplotlib plots in notebooks\n%matplotlib inline\n\nsrc_folder = \"../data/voc\"\n\n# Set up a figure of an appropriate size\nfig = plt.figure(figsize=(12, 12))\n\n# loop through the subfolders\nfor root, folders, filenames in os.walk(src_folder):\n    image_num = 0\n    num_folders = len(folders)\n    for folder in sorted(folders):\n        # Keep an incrementing count of each image\n        image_num +=1\n        # Find the first image file in the folder\n        file_name = os.listdir(os.path.join(root,folder))[0]\n        # Get the full path from the root folder\n        file_path = os.path.join(root,folder, file_name)\n        # Open the file using the matplotlib.image library\n        image = mp_image.imread(file_path)\n        # Add the image to the figure (which will have a row for each folder, each containing one column for the image)\n        a=fig.add_subplot(num_folders, 1, image_num)\n        # Add the image to the plot\n        image_plot = plt.imshow(image)\n        # Add a caption with the folder name\n        a.set_title(folder)\n        \n# Show the plot\nplt.show()",
      "execution_count": null,
      "outputs": []
    },
    {
      "metadata": {},
      "cell_type": "markdown",
      "source": "A few things you should note about this code:\n1. It's common in computer vision scenarios to have images organized in folders based on their subject, or *class*. You should familiarize yourself with the [**os**](https://docs.python.org/3.6/library/os.html) library in Python, which provides lots of ways for you to work with the file system.\n2. The [**Matplotlib**](https://matplotlib.org/index.html) library provides lots of ways to display plots and images. Note in particular that if you need to display multiple images, you can create a subplot for each image, The syntax for creating a subplot can be confusing; for each subplot you need to specify:\n    - The total number of *rows* in the grid of subplots to be displayed (this value must be the same for each subplot)\n    - The total number of *columns* in the grid of subplots to be displayed (again, this must be the same for each subplot)\n    - The ordinal position of \"this\" subplot in the grid (the first subplot should be numbered 1, the second 2, and so on)\n3. In addition to the Matplotlib library, there are other common libraries for working with images:\n    - [**PIL**](https://pillow.readthedocs.io/en/stable/) (based on the **Pillow** fork)\n    - [**OpenCV**](https://opencv.org/)\n    - [**Scikit-Image**](https://scikit-image.org/)\n\nOf these, PIL is already installed in the Azure Notebooks environment, but we'll need to unstall the OpenCV library and upgrade SciKit-Image to the latest version using `pip`:"
    },
    {
      "metadata": {
        "trusted": true
      },
      "cell_type": "code",
      "source": "!pip install opencv-python\n!pip install --upgrade scikit-image",
      "execution_count": null,
      "outputs": []
    },
    {
      "metadata": {},
      "cell_type": "markdown",
      "source": "Now let's use each of these libraries to load an image, and then use matplotlib to display them:"
    },
    {
      "metadata": {
        "trusted": true
      },
      "cell_type": "code",
      "source": "from PIL import Image\nimport skimage as sk\nfrom skimage import io as sk_io\nimport cv2\n\nimages = []\n\npil_image = Image.open(os.path.join(src_folder, \"automobile\", \"000522.jpg\"))\nimages.append(pil_image)\nsk_image = sk_io.imread(os.path.join(src_folder, \"plane\", \"000228.jpg\"))\nimages.append(sk_image)\ncv_image = cv2.imread(os.path.join(src_folder, \"train\", \"000712.jpg\"))\nimages.append(cv_image)\n\n# Set up a figure of an appropriate size\nfig = plt.figure(figsize=(12, 12))\n\nimage_num = 0\nnum_images = len(images)\n# loop through the images\nfor image_idx in range(num_images):\n    # Keep an incrementing count of each image\n    a=fig.add_subplot(1, num_images, image_idx+1)\n    # Add the image to the plot\n    image_plot = plt.imshow(images[image_idx])\n    # Add a caption with the folder name\n    a.set_title(\"Image \" + str(image_idx+1))\n        \n# Show the plot\nplt.show()",
      "execution_count": null,
      "outputs": []
    },
    {
      "metadata": {},
      "cell_type": "markdown",
      "source": "Note that this time we've added the subplots to create a single row with a column for each image.\n\nAlso, what's going on with Image 3? The colors look wrong.\n\nIt turns out that the OpenCV library loads images in a different default format from the others, so we need to do some conversion to get it to look right:"
    },
    {
      "metadata": {
        "trusted": true
      },
      "cell_type": "code",
      "source": "cv_image_rgb = cv2.cvtColor(cv_image, cv2.COLOR_BGR2RGB)\n\nplt.imshow(cv_image_rgb)",
      "execution_count": null,
      "outputs": []
    },
    {
      "metadata": {},
      "cell_type": "markdown",
      "source": "That's better - so what happened?\n\nWell, images are really just arrays of pixel values, and in the case of color images, they're made up of multiple dimensions , or *channels*. In a JPEG image, these channels usually represent the pixel intensities for red, green, and blue (RGB), but by default, OpenCV orders these as blue, green, red (BGR).\n\nIn Python, we typically handle arrays of numeric values using the [**Numpy**](https://docs.scipy.org/doc/numpy/) library.\n\nLet's check the data type of the (now fixed) OpenCV image object:"
    },
    {
      "metadata": {
        "trusted": true
      },
      "cell_type": "code",
      "source": "type(cv_image_rgb)",
      "execution_count": null,
      "outputs": []
    },
    {
      "metadata": {},
      "cell_type": "markdown",
      "source": "Aha! It's actually a Numpy multidimensional array. What about the scikit-image object?"
    },
    {
      "metadata": {
        "trusted": true
      },
      "cell_type": "code",
      "source": "type (sk_image)",
      "execution_count": null,
      "outputs": []
    },
    {
      "metadata": {},
      "cell_type": "markdown",
      "source": "Thsi is also a Numpy array. So what about the PIL image object?"
    },
    {
      "metadata": {
        "trusted": true
      },
      "cell_type": "code",
      "source": "type (pil_image)",
      "execution_count": null,
      "outputs": []
    },
    {
      "metadata": {},
      "cell_type": "markdown",
      "source": "Hmm, this one's different - it looks like PIL objects have their own image-specific data type. However, all is not lost - it's easy to convert a PIL image to a Numpy array:"
    },
    {
      "metadata": {
        "trusted": true
      },
      "cell_type": "code",
      "source": "pil_array = np.array(pil_image)\nplt.imshow(pil_array)\ntype(pil_array)",
      "execution_count": null,
      "outputs": []
    },
    {
      "metadata": {},
      "cell_type": "markdown",
      "source": "It's also easy to convert images in Numpy array format to PIL images:"
    },
    {
      "metadata": {
        "trusted": true
      },
      "cell_type": "code",
      "source": "pil_sk_image = Image.fromarray(sk_image)\nplt.imshow(pil_sk_image)\ntype(pil_sk_image)",
      "execution_count": null,
      "outputs": []
    },
    {
      "metadata": {},
      "cell_type": "markdown",
      "source": "While we're at it, let's check the shape of these Numpy array images:"
    },
    {
      "metadata": {
        "trusted": true
      },
      "cell_type": "code",
      "source": "sk_image.shape",
      "execution_count": null,
      "outputs": []
    },
    {
      "metadata": {},
      "cell_type": "markdown",
      "source": "This image is a 3-dimensional array (a dimension each for the red, green, and blue color channels); and the dimensions of the image are 333 pixels high by 500 pixels wide.\n\nWe can convert color images to grayscale, let's see what effect that has:"
    },
    {
      "metadata": {
        "trusted": true
      },
      "cell_type": "code",
      "source": "sk_gray_image = sk.color.rgb2gray(sk_image)\nplt.imshow(sk_gray_image, 'gray')\nsk_gray_image.shape",
      "execution_count": null,
      "outputs": []
    },
    {
      "metadata": {},
      "cell_type": "markdown",
      "source": "Noe the shape of the image includes only two dimensions - height and width.\n\nNote also that the `plt.imshow` method requires a parameter to tell it that this image should be displayed in grayscale; otherwise it will try to show a single-channel image using three channels!"
    },
    {
      "metadata": {},
      "cell_type": "markdown",
      "source": "## Manipulating Images\n\nSo we've seen how to open and display images, and played around a little with type conversions and color channels. What else can we do with images?\n\nHow about changing their orientation by rotating them? PIL includes a `rotate` method that we can use:"
    },
    {
      "metadata": {
        "trusted": true
      },
      "cell_type": "code",
      "source": "rotated_pil_image = pil_image.rotate(90, expand=1)\nplt.imshow(rotated_pil_image)",
      "execution_count": null,
      "outputs": []
    },
    {
      "metadata": {},
      "cell_type": "markdown",
      "source": "The **expand** parameter tells PIL to change the image dimenions to fit the rotated orientation. Without this, we'd get an image with the original dimensions with a resized, rotated version of the image and the space that was created filled in, like this:"
    },
    {
      "metadata": {
        "trusted": true
      },
      "cell_type": "code",
      "source": "rotated_pil_image = pil_image.rotate(90)\nplt.imshow(rotated_pil_image)",
      "execution_count": null,
      "outputs": []
    },
    {
      "metadata": {},
      "cell_type": "markdown",
      "source": "Its common for mulitple libraries to provide similar functionality - for example, Scikit-image has a library of transformations, including a **rotate** method that behaves similarly to PIL's:"
    },
    {
      "metadata": {
        "trusted": true
      },
      "cell_type": "code",
      "source": "from skimage import transform as sk_transform\nrotated_sk_image = sk_transform.rotate(sk_image, 90, resize=True)\nplt.imshow(rotated_sk_image)",
      "execution_count": null,
      "outputs": []
    },
    {
      "metadata": {},
      "cell_type": "markdown",
      "source": "You can also flip images. One way to do this is to take advantage of the fact that an image is a Numpy array, and Numpy has a `flip` method:"
    },
    {
      "metadata": {
        "trusted": true
      },
      "cell_type": "code",
      "source": "import numpy as np\nupended_cv_image_rgb = np.flip(cv_image_rgb, axis=0)\nmirrored_cv_image_rgb = np.flip(cv_image_rgb, axis=1)\n\nfig = plt.figure(figsize=(12, 12))\n\n# Plot original image\na=fig.add_subplot(1, 3, 1)\nimage_plot_1 = plt.imshow(cv_image_rgb)\na.set_title(\"Original\")\n\n# Plot upended image\na=fig.add_subplot(1, 3, 2)\nimage_plot_2 = plt.imshow(upended_cv_image_rgb)\na.set_title(\"Flipped Vertically\")\n\n# Plot mirrored image\na=fig.add_subplot(1, 3, 3)\nimage_plot_3 = plt.imshow(mirrored_cv_image_rgb)\na.set_title(\"Flipped Horizontally\")\n\nplt.show()",
      "execution_count": null,
      "outputs": []
    },
    {
      "metadata": {},
      "cell_type": "markdown",
      "source": "## Resizing Images\nYou may have noted that by default, Matplotlib plots images with an axis that shows the height and width of the image in pixels - the plots themselves are scaled to be displayed in the Notebook; but what if you actually want to resize an image?\n\nOne way is to use PIL's **thumbnail** method:"
    },
    {
      "metadata": {
        "trusted": true
      },
      "cell_type": "code",
      "source": "from PIL import Image, ImageOps\nimport matplotlib.pyplot as plt\n%matplotlib inline\n\n\n# Get the PIL image size\no_h, o_w = pil_image.size\nprint('Original size:', o_h, 'x', o_w)\n\n# We'll resize this so it's 150 pixels on its widest dimensions\ntarget_size = (150,150)\nresized_img = pil_image.copy()\nresized_img.thumbnail(target_size, Image.ANTIALIAS)\nn_h, n_w = resized_img.size\nprint('New size:', n_h, 'x', n_w)\n\n# Show the original and resized images\n# Create a figure\nfig = plt.figure(figsize=(12, 12))\n\n# Subplot for original image\na=fig.add_subplot(1,2,1)\nimgplot = plt.imshow(pil_image)\na.set_title('Before')\n\n# Subplot for resized image\na=fig.add_subplot(1,2,2)\nimgplot = plt.imshow(resized_img)\na.set_title('After')\n\nplt.show()\n",
      "execution_count": null,
      "outputs": []
    },
    {
      "metadata": {},
      "cell_type": "markdown",
      "source": "Note that what this actually did was to *rescale* the image, even through we specified 150 pixels as the target size for both height and width, the image was rescaled so that it's longest dimension (width) is set to 150 pixels, and the height is resized proportionally to keep the right aspect ratio.\n\nWhat if we actually want to make both dimensions 150 pixels so we change the shape of the image? We can use the **resize** method:"
    },
    {
      "metadata": {
        "trusted": true
      },
      "cell_type": "code",
      "source": "from PIL import Image, ImageOps\nimport matplotlib.pyplot as plt\n%matplotlib inline\n\n# Get the image size\no_h, o_w = pil_image.size\nprint('Original size:', o_h, 'x', o_w)\n\n# We'll resize this so it's 150 x 150\ntarget_size = (150,150)\nnew_img = pil_image.resize(target_size)\nn_h, n_w = new_img.size\nprint('New size:', n_h, 'x', n_w)\n\n# Show the original and resized images\n# Create a figure\nfig = plt.figure(figsize=(12, 12))\n\n# Subplot for original image\na=fig.add_subplot(1,2,1)\nimgplot = plt.imshow(pil_image)\na.set_title('Before')\n\n# Subplot for resized image\na=fig.add_subplot(1,2,2)\nimgplot = plt.imshow(new_img)\na.set_title('After')\n\nplt.show()\n",
      "execution_count": null,
      "outputs": []
    },
    {
      "metadata": {},
      "cell_type": "markdown",
      "source": "Well, that worked; but notice that the image is not scaled. We resized the rectangular image to have square dimensions, and the image is skewed to fill the new size. If we want to resize the image and change its shape without distorting it, we'll need to *scale* the image so that its largest dimension fits our new desired size, and fill out any additional space with some sort of border.\n\nTo accomplish this, we'll use the **thumbnail** method to rescale the image so that it's longest dimension fits the desired size; and then we'll create a new \"background\" image of the right dimensions, and then *paste* the rescaled thumbnail into the middle of the background. Since there are a few steps to this, we'll encapsulate all of them in a function:"
    },
    {
      "metadata": {
        "trusted": true
      },
      "cell_type": "code",
      "source": "def resize_image(src_image, size=(200,200), bg_color=\"white\"): \n    from PIL import Image, ImageOps \n    \n    # resize the image so the longest dimension matches our target size\n    src_image.thumbnail(size, Image.ANTIALIAS)\n    \n    # Create a new square background image\n    new_image = Image.new(\"RGB\", size, bg_color)\n    \n    # Paste the resized image into the center of the square background\n    new_image.paste(src_image, (int((size[0] - src_image.size[0]) / 2), int((size[1] - src_image.size[1]) / 2)))\n  \n    # return the resized image\n    return new_image\n\n\n# Get the image size\no_h, o_w = pil_image.size\nprint('Original size:', o_h, 'x', o_w)\n\n# We'll resize this so it's 150 x 150 with black padding\ntarget_size = (150,150)\npad_color = \"black\"\nresized_img = resize_image(pil_image.copy(), target_size, pad_color)\nn_h, n_w = resized_img.size\nprint('New size:', n_h, 'x', n_w)\n\n# Show the original and resized images\n# Create a figure\nfig = plt.figure(figsize=(12, 12))\n\n# Subplot for original image\na=fig.add_subplot(1,2,1)\nimgplot = plt.imshow(pil_image)\na.set_title('Before')\n\n# Subplot for resized image\na=fig.add_subplot(1,2,2)\nimgplot = plt.imshow(resized_img)\na.set_title('After')\n\nplt.show()\n",
      "execution_count": null,
      "outputs": []
    },
    {
      "metadata": {},
      "cell_type": "markdown",
      "source": "This time the image keeps its aspect ratio, and the space is filled to make it fit into the new shape.\n\n## Saving Images\nNow that we've made a few changes top out images, let's look at saving them. First we'll create a folder for them, deleting it if it already exists:"
    },
    {
      "metadata": {
        "trusted": true
      },
      "cell_type": "code",
      "source": "import os, shutil\n\nimage_folder = \"my_images\"\n\n# Delete the folder if it already exists\nif os.path.exists(image_folder):\n    shutil.rmtree(image_folder)\n\n# Create the folder\nos.makedirs(image_folder)\nprint(\"Ready to save images in\", image_folder)",
      "execution_count": null,
      "outputs": []
    },
    {
      "metadata": {},
      "cell_type": "markdown",
      "source": "To save a PIL image, use the **save** method of the PIL image object:"
    },
    {
      "metadata": {
        "trusted": true
      },
      "cell_type": "code",
      "source": "file_name = \"resized_car.jpg\"\nfile_path = os.path.join(image_folder, file_name)\n\n# Save the image\nresized_img.save(file_path, format=\"JPEG\")\nprint(\"Image saved as\", file_path)",
      "execution_count": null,
      "outputs": []
    },
    {
      "metadata": {},
      "cell_type": "markdown",
      "source": "The **io** namespace in the **Scikit-image** library has an **imsave** method:"
    },
    {
      "metadata": {
        "trusted": true
      },
      "cell_type": "code",
      "source": "file_name = \"rotated_plane.jpg\"\nfile_path = os.path.join(image_folder, file_name)\n\n# Save the image\nsk_io.imsave(fname=file_path, arr=rotated_sk_image)\nprint(\"Image saved as\", file_path)",
      "execution_count": null,
      "outputs": []
    },
    {
      "metadata": {},
      "cell_type": "markdown",
      "source": "The OpenCV library has an **imwrite** method:"
    },
    {
      "metadata": {
        "trusted": true
      },
      "cell_type": "code",
      "source": "file_name = \"flipped_train.jpg\"\nfile_path = os.path.join(image_folder, file_name)\n\n# Save the image\ncv2.imwrite(filename=file_path, img=mirrored_cv_image_rgb)\nprint(\"Image saved as\", file_path)",
      "execution_count": null,
      "outputs": []
    },
    {
      "metadata": {},
      "cell_type": "markdown",
      "source": "The **matplotlib.pyplot** library has an **imsave** method:"
    },
    {
      "metadata": {
        "trusted": true
      },
      "cell_type": "code",
      "source": "file_name = \"original_train.jpg\"\nfile_path = os.path.join(image_folder, file_name)\n\n# Save the image\nplt.imsave(file_path, image)\nprint(\"Image saved as\", file_path)",
      "execution_count": null,
      "outputs": []
    },
    {
      "metadata": {},
      "cell_type": "markdown",
      "source": "Now that we've saved these images as JPEGs, we can reload them using any of the available libraries:"
    },
    {
      "metadata": {
        "trusted": true
      },
      "cell_type": "code",
      "source": "# Set up a figure of an appropriate size\nfig = plt.figure(figsize=(12, 12))\nfile_names = os.listdir(image_folder)\nimg_num = 0\nfor file_name in file_names:\n    file_path = os.path.join(image_folder, file_name)\n    # Open the file using the matplotlib.image library\n    image = mp_image.imread(file_path)\n    # Add the image to the figure (which will have 1 row, a column for each filename, and a position based on its index in the file_names list)\n    a=fig.add_subplot(1, len(file_names), file_names.index(file_name)+1)\n    # Add the image to the plot\n    image_plot = plt.imshow(image)\n    # Add a caption with the file name\n    a.set_title(file_name)\n        \n# Show the plot\nplt.show()",
      "execution_count": null,
      "outputs": []
    },
    {
      "metadata": {},
      "cell_type": "markdown",
      "source": "## Acknowledgements and Citations\n\nThe data used in this exercise includes images adapted from the PASCAL Visual Object Classes Challenge (VOC2007) dataset at http://host.robots.ox.ac.uk/pascal/VOC/voc2007/.\n\n\n    @misc{pascal-voc-2007,\n        author = \"Everingham, M. and Van~Gool, L. and Williams, C. K. I. and Winn, J. and Zisserman, A.\",\n        title = \"The {PASCAL} {V}isual {O}bject {C}lasses {C}hallenge 2007 {(VOC2007)} {R}esults\",\n        howpublished = \"http://www.pascal-network.org/challenges/VOC/voc2007/workshop/index.html\"}"
    }
  ],
  "metadata": {
    "kernelspec": {
      "name": "python36",
      "display_name": "Python 3.6",
      "language": "python"
    },
    "language_info": {
      "mimetype": "text/x-python",
      "nbconvert_exporter": "python",
      "name": "python",
      "pygments_lexer": "ipython3",
      "version": "3.6.6",
      "file_extension": ".py",
      "codemirror_mode": {
        "version": 3,
        "name": "ipython"
      }
    }
  },
  "nbformat": 4,
  "nbformat_minor": 2
}